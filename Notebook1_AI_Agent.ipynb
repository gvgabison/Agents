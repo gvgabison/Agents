{
  "nbformat": 4,
  "nbformat_minor": 0,
  "metadata": {
    "colab": {
      "provenance": [],
      "authorship_tag": "ABX9TyOIplH67Apk3W17PRy4c+G+",
      "include_colab_link": true
    },
    "kernelspec": {
      "name": "python3",
      "display_name": "Python 3"
    },
    "language_info": {
      "name": "python"
    }
  },
  "cells": [
    {
      "cell_type": "markdown",
      "metadata": {
        "id": "view-in-github",
        "colab_type": "text"
      },
      "source": [
        "<a href=\"https://colab.research.google.com/github/gvgabison/Agents/blob/main/Notebook1_AI_Agent.ipynb\" target=\"_parent\"><img src=\"https://colab.research.google.com/assets/colab-badge.svg\" alt=\"Open In Colab\"/></a>"
      ]
    },
    {
      "cell_type": "code",
      "execution_count": null,
      "metadata": {
        "colab": {
          "base_uri": "https://localhost:8080/"
        },
        "id": "xBiAA5uGyeWS",
        "outputId": "e56a5d49-3832-4db8-c246-9d26dae87e6e"
      },
      "outputs": [
        {
          "output_type": "stream",
          "name": "stdout",
          "text": [
            "Requirement already satisfied: openai in /usr/local/lib/python3.11/dist-packages (1.96.1)\n",
            "Requirement already satisfied: anyio<5,>=3.5.0 in /usr/local/lib/python3.11/dist-packages (from openai) (4.9.0)\n",
            "Requirement already satisfied: distro<2,>=1.7.0 in /usr/local/lib/python3.11/dist-packages (from openai) (1.9.0)\n",
            "Requirement already satisfied: httpx<1,>=0.23.0 in /usr/local/lib/python3.11/dist-packages (from openai) (0.28.1)\n",
            "Requirement already satisfied: jiter<1,>=0.4.0 in /usr/local/lib/python3.11/dist-packages (from openai) (0.10.0)\n",
            "Requirement already satisfied: pydantic<3,>=1.9.0 in /usr/local/lib/python3.11/dist-packages (from openai) (2.11.7)\n",
            "Requirement already satisfied: sniffio in /usr/local/lib/python3.11/dist-packages (from openai) (1.3.1)\n",
            "Requirement already satisfied: tqdm>4 in /usr/local/lib/python3.11/dist-packages (from openai) (4.67.1)\n",
            "Requirement already satisfied: typing-extensions<5,>=4.11 in /usr/local/lib/python3.11/dist-packages (from openai) (4.14.1)\n",
            "Requirement already satisfied: idna>=2.8 in /usr/local/lib/python3.11/dist-packages (from anyio<5,>=3.5.0->openai) (3.10)\n",
            "Requirement already satisfied: certifi in /usr/local/lib/python3.11/dist-packages (from httpx<1,>=0.23.0->openai) (2025.7.14)\n",
            "Requirement already satisfied: httpcore==1.* in /usr/local/lib/python3.11/dist-packages (from httpx<1,>=0.23.0->openai) (1.0.9)\n",
            "Requirement already satisfied: h11>=0.16 in /usr/local/lib/python3.11/dist-packages (from httpcore==1.*->httpx<1,>=0.23.0->openai) (0.16.0)\n",
            "Requirement already satisfied: annotated-types>=0.6.0 in /usr/local/lib/python3.11/dist-packages (from pydantic<3,>=1.9.0->openai) (0.7.0)\n",
            "Requirement already satisfied: pydantic-core==2.33.2 in /usr/local/lib/python3.11/dist-packages (from pydantic<3,>=1.9.0->openai) (2.33.2)\n",
            "Requirement already satisfied: typing-inspection>=0.4.0 in /usr/local/lib/python3.11/dist-packages (from pydantic<3,>=1.9.0->openai) (0.4.1)\n"
          ]
        }
      ],
      "source": [
        "# 📦 Step 1: Install the OpenAI library\n",
        "!pip install openai"
      ]
    },
    {
      "cell_type": "code",
      "source": [
        "# 🔑 Step 2: Import and set your OpenAI API key\n",
        "import openai\n",
        "\n",
        "# Set your OpenAI API key\n",
        "openai.api_key = \"yourkeyhere\"  # Replace this with your actual API key\n"
      ],
      "metadata": {
        "id": "zoG4Sy45ypSF"
      },
      "execution_count": null,
      "outputs": []
    },
    {
      "cell_type": "code",
      "source": [
        "# 🧠 Step 3: Initialize a simple conversation memory\n",
        "conversation_history = []\n",
        "\n",
        "def chat_with_memory(prompt):\n",
        "    # Combine the last 5 exchanges for short-term memory\n",
        "    context = \"\\n\".join(conversation_history[-5:])\n",
        "    full_prompt = f\"{context}\\nUser: {prompt}\\nAssistant:\"\n",
        "\n",
        "    # Call the OpenAI API with GPT-4.1 nano\n",
        "    response = openai.ChatCompletion.create(\n",
        "        model=\"gpt-4-1-nano\",\n",
        "        messages=[\n",
        "            {\"role\": \"system\", \"content\": \"You are a helpful assistant.\"},\n",
        "            {\"role\": \"user\", \"content\": full_prompt}\n",
        "        ]\n",
        "    )\n",
        "\n",
        "    reply = response['choices'][0]['message']['content']\n",
        "    # Save the latest user prompt and response to memory\n",
        "    conversation_history.append(f\"User: {prompt}\")\n",
        "    conversation_history.append(f\"Assistant: {reply}\")\n",
        "    return reply\n"
      ],
      "metadata": {
        "id": "XWxmh9jEyxYn"
      },
      "execution_count": null,
      "outputs": []
    },
    {
      "cell_type": "code",
      "source": [
        "from openai import OpenAI\n",
        "\n",
        "client = OpenAI(api_key=\"yourkeyhere\")\n",
        "\n",
        "def chat_with_memory(prompt):\n",
        "    context = \"\\n\".join(conversation_history[-5:])\n",
        "    full_prompt = f\"{context}\\nUser: {prompt}\\nAssistant:\"\n",
        "\n",
        "    response = client.chat.completions.create(\n",
        "        model=\"gpt-4.1-nano\",\n",
        "        messages=[\n",
        "            {\"role\": \"system\", \"content\": \"You are a helpful assistant.\"},\n",
        "            {\"role\": \"user\", \"content\": full_prompt}\n",
        "        ]\n",
        "    )\n",
        "\n",
        "    reply = response.choices[0].message.content\n",
        "    conversation_history.append(f\"User: {prompt}\")\n",
        "    conversation_history.append(f\"Assistant: {reply}\")\n",
        "    return reply\n"
      ],
      "metadata": {
        "id": "Q5-Y0vsMzScb"
      },
      "execution_count": null,
      "outputs": []
    },
    {
      "cell_type": "code",
      "source": [
        "# 💬 Step 4: Main conversation loop\n",
        "while True:\n",
        "    user_input = input(\"You: \")\n",
        "    if user_input.lower() in ['exit', 'quit']:\n",
        "        break\n",
        "    reply = chat_with_memory(user_input)\n",
        "    print(\"AIUN Agent:\", reply)"
      ],
      "metadata": {
        "colab": {
          "base_uri": "https://localhost:8080/"
        },
        "id": "R8BOwZexzgbr",
        "outputId": "a81bcad0-7b58-4fdb-932a-de6da5a458e6"
      },
      "execution_count": null,
      "outputs": [
        {
          "name": "stdout",
          "output_type": "stream",
          "text": [
            "You: who is donald trump\n",
            "AIUN Agent: Donald Trump is an American businessman, television personality, and politician who served as the 45th President of the United States from January 20, 2017, to January 20, 2021. He is a member of the Republican Party and prior to his presidency, Trump was known for his real estate development business, the Trump Organization, and for hosting the reality TV show \"The Apprentice.\" Trump is a controversial and highly recognizable figure, known for his unconventional approach to politics and communication.\n",
            "You: who is imelda papin\n",
            "AIUN Agent: Imelda Papin is a Filipino singer and actress known for her powerful voice and contributions to OPM (Original Pinoy Music). She gained popularity in the 1970s and 1980s with hit songs like \"Bongga Ka, Day\" and \"Kahit Maputi Na ang Buhok Ko.\" Imelda Papin is celebrated as one of the prominent figures in the Filipino music industry and has a dedicated following for her emotional performances and memorable songs.\n",
            "You: ex\n",
            "AIUN Agent: Hello! Could you please clarify what you mean by \"ex\"? Are you referring to an ex-partner, an ex-president, or something else? I'll be happy to help with more information once I understand your question better.\n",
            "You: exit\n"
          ]
        }
      ]
    }
  ]
}